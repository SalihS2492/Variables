{
 "cells": [
  {
   "cell_type": "markdown",
   "id": "c7eb300a-0d22-4649-9895-2d968a6d2154",
   "metadata": {},
   "source": [
    "# Variables in Javascript"
   ]
  },
  {
   "cell_type": "markdown",
   "id": "b5221e14-b8f7-4b88-80e4-9d3b3885df64",
   "metadata": {},
   "source": [
    "Documentation located here."
   ]
  },
  {
   "cell_type": "markdown",
   "id": "968e44ab-678d-41e5-9e62-24472c8a9de1",
   "metadata": {},
   "source": [
    "Variables: A container for storing values.  A variable has a name and contains a value."
   ]
  }
 ],
 "metadata": {
  "kernelspec": {
   "display_name": "JavaScript (Node.js)",
   "language": "javascript",
   "name": "javascript"
  },
  "language_info": {
   "file_extension": ".js",
   "mimetype": "application/javascript",
   "name": "javascript",
   "version": "20.8.1"
  }
 },
 "nbformat": 4,
 "nbformat_minor": 5
}
