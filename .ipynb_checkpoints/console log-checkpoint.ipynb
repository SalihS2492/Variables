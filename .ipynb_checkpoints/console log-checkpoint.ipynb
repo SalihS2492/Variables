{
 "cells": [
  {
   "cell_type": "markdown",
   "id": "2a39501d-5dd7-4b26-8a59-4065fe4f9b1b",
   "metadata": {},
   "source": [
    "# console.log();"
   ]
  },
  {
   "cell_type": "markdown",
   "id": "1d4e5d35-b56b-4168-b6b4-4aea54740669",
   "metadata": {},
   "source": [
    "Prints a new line in the console"
   ]
  },
  {
   "cell_type": "markdown",
   "id": "7640aaaf-8477-4a12-83e5-fb2b02e82f2e",
   "metadata": {},
   "source": [
    "Syntax console.log(\"text or object\");\n",
    "\n",
    "Example:"
   ]
  },
  {
   "cell_type": "code",
   "execution_count": 3,
   "id": "18090e79-0bb0-49f7-af98-b2759b600fe0",
   "metadata": {},
   "outputs": [
    {
     "name": "stdout",
     "output_type": "stream",
     "text": [
      "Hello, World!\n"
     ]
    }
   ],
   "source": [
    "console.log(\"Hello, World!\");"
   ]
  },
  {
   "cell_type": "code",
   "execution_count": null,
   "id": "97d89468-233b-483f-b98c-634955b17407",
   "metadata": {},
   "outputs": [],
   "source": []
  }
 ],
 "metadata": {
  "kernelspec": {
   "display_name": "JavaScript (Node.js)",
   "language": "javascript",
   "name": "javascript"
  },
  "language_info": {
   "file_extension": ".js",
   "mimetype": "application/javascript",
   "name": "javascript",
   "version": "20.8.1"
  }
 },
 "nbformat": 4,
 "nbformat_minor": 5
}
