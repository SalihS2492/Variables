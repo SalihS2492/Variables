{
 "cells": [
  {
   "cell_type": "markdown",
   "id": "92c4d9dc-8d9c-4916-a56d-7cf472b6bb9b",
   "metadata": {},
   "source": [
    "# Functions in Javascript"
   ]
  },
  {
   "cell_type": "markdown",
   "id": "1286afdb-00d8-4c2f-af4a-d1831eb4fc3a",
   "metadata": {},
   "source": [
    "___"
   ]
  },
  {
   "cell_type": "markdown",
   "id": "b5a35df5-3e10-4af8-994c-c445aef60a6e",
   "metadata": {},
   "source": [
    "Documentation located here."
   ]
  },
  {
   "cell_type": "markdown",
   "id": "8f615b92-7891-49c9-8560-3dbf2b95742d",
   "metadata": {},
   "source": [
    "**Functions:** Functions are one of the fundamental building blocks in JavaScript. A function in\r\n",
    "JavaScript is similar to a procedure—a set of statements that performs a task or calculates a\r\n",
    "value, but for a procedure to qualify as a function, it should take some input and return an\r\n",
    "output. Functions are repeatable lines of code that make our programs neater and easier to\r\n",
    "read and run."
   ]
  },
  {
   "cell_type": "markdown",
   "id": "15cfaf49-7643-4271-9ba4-5b34cf6b443f",
   "metadata": {},
   "source": [
    "# Defining Functions"
   ]
  },
  {
   "cell_type": "markdown",
   "id": "12de78a6-95c7-436e-8bed-e330378f86d9",
   "metadata": {},
   "source": [
    "___"
   ]
  },
  {
   "cell_type": "markdown",
   "id": "f2294b13-20ee-4577-ac13-cd2a99759f9d",
   "metadata": {},
   "source": [
    "In JavaScript, in order to create a function there is a syntax that we use. There are multiple\r\n",
    "ways to create functions in Javascript, we will talk about 2 different ways below."
   ]
  },
  {
   "cell_type": "markdown",
   "id": "37310786-cec6-4f0c-a087-dd2554e1d451",
   "metadata": {},
   "source": [
    "**Function Declarations:**"
   ]
  },
  {
   "cell_type": "markdown",
   "id": "742300be-1934-4cb6-89f5-3257b418bf98",
   "metadata": {},
   "source": [
    "A function definition (also called a function declaration, or function statement) consists of\n",
    "the function keyword, followed by:"
   ]
  },
  {
   "cell_type": "markdown",
   "id": "70f530f8-2b7f-41b1-8764-36bf52a46c23",
   "metadata": {},
   "source": [
    "1. The name of the function.\r\n",
    "2. . A list of parameters to the function, enclosed in parentheses and separated commas.\r\n",
    "3. The savaScript statements that define the function, enclosed in curly braces, { /* ... */ }."
   ]
  },
  {
   "cell_type": "markdown",
   "id": "7aaea59d-2b8b-417f-b816-bb83e4686184",
   "metadata": {},
   "source": [
    "<font color = \"blue\"> Example"
   ]
  },
  {
   "cell_type": "markdown",
   "id": "1c10183f-ad45-47c8-a0d1-9531adf10526",
   "metadata": {},
   "source": [
    "function square(number){\n",
    "return number * number;\n",
    "}"
   ]
  },
  {
   "cell_type": "markdown",
   "id": "026f1cc9-f63c-4542-b953-dfb5bbb8356b",
   "metadata": {},
   "source": [
    "In the example above the function called square takes a single parameter, which is the\n",
    "word enclosed in parenthesis. The function then utilizes the return keyword to pass the\n",
    "result of the parameter out of the function."
   ]
  },
  {
   "cell_type": "markdown",
   "id": "71079abe-b1e9-43a8-99aa-7cbeaeee574b",
   "metadata": {},
   "source": [
    "**Parameter:** A parameter in programming is a named variable used only in a function or\n",
    "method definition. It acts like a variable, a placeholder that recieves and holds the values\n",
    "passed to the function when its called."
   ]
  },
  {
   "cell_type": "markdown",
   "id": "bd8b28c3-34e9-416d-a2c9-cea6cee0b23b",
   "metadata": {},
   "source": [
    "**Return:** A return statement in a function is an optional statement that exists the function"
   ]
  },
  {
   "cell_type": "code",
   "execution_count": null,
   "id": "3c94ded0-fdd2-4e28-a6c8-db401f25da42",
   "metadata": {},
   "outputs": [],
   "source": []
  }
 ],
 "metadata": {
  "kernelspec": {
   "display_name": "JavaScript (Node.js)",
   "language": "javascript",
   "name": "javascript"
  },
  "language_info": {
   "file_extension": ".js",
   "mimetype": "application/javascript",
   "name": "javascript",
   "version": "20.8.1"
  }
 },
 "nbformat": 4,
 "nbformat_minor": 5
}
