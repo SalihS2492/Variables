{
 "cells": [
  {
   "cell_type": "markdown",
   "id": "c7eb300a-0d22-4649-9895-2d968a6d2154",
   "metadata": {},
   "source": [
    "# Variables in Javascript "
   ]
  },
  {
   "cell_type": "markdown",
   "id": "b5221e14-b8f7-4b88-80e4-9d3b3885df64",
   "metadata": {},
   "source": [
    "***"
   ]
  },
  {
   "cell_type": "markdown",
   "id": "968e44ab-678d-41e5-9e62-24472c8a9de1",
   "metadata": {},
   "source": [
    "Documentation located here."
   ]
  },
  {
   "cell_type": "markdown",
   "id": "1a0c586d-66e7-473e-b5bd-e571005558bb",
   "metadata": {},
   "source": [
    "Variables: A container for storing values.  A variable has a name and contains a value. You \"Store\" a variable in memory and it allows you to access, modify, and manipulate that value throughout your program. Variables allow us to write programs in a generic manner, allow us to modify data without needing to modify the code structure.e"
   ]
  },
  {
   "cell_type": "markdown",
   "id": "f644b46f-7da3-4f12-971d-f0a540534d40",
   "metadata": {},
   "source": [
    "You can store many different data types in variables: Strings, Ints, booleans, floats, doubles and more."
   ]
  },
  {
   "cell_type": "markdown",
   "id": "5de95116-31a8-4d6d-a28b-f6e807c98913",
   "metadata": {},
   "source": [
    "<br>"
   ]
  },
  {
   "cell_type": "markdown",
   "id": "770f4ad2-dcdf-46ff-b190-d2c7257cc008",
   "metadata": {},
   "source": [
    "# Variable Declaration & Initialization"
   ]
  },
  {
   "cell_type": "markdown",
   "id": "acb17d07-7591-4a7c-b66a-0cd2594cbd7e",
   "metadata": {},
   "source": [
    "***"
   ]
  },
  {
   "cell_type": "markdown",
   "id": "58f723a0-b743-4dab-afee-700656d47490",
   "metadata": {},
   "source": [
    "Variables can be declared & initialize at the same time or seperately, in order to utilize the variable, both must happen."
   ]
  },
  {
   "cell_type": "markdown",
   "id": "30181da9-dbc3-4447-bc3c-98c11a645125",
   "metadata": {},
   "source": [
    "<strong> Variable Declaration: \n",
    "This is the first step to creating a variable, it tells your program that \n",
    "we want to create a variable, in this step the variable has no value. Must declare with var, le \r\n",
    "or CONST keywords. Var is outdated, we do not use it, you will see it in legacy code as we l\r\n",
    "as in code.org."
   ]
  },
  {
   "cell_type": "markdown",
   "id": "a521f7e5-5a7b-45b5-8b48-7045a5ca825a",
   "metadata": {},
   "source": [
    "Example:\r\n",
    "let age;\r\n",
    "var name;\r\n",
    "CONST birthday;"
   ]
  },
  {
   "cell_type": "markdown",
   "id": "1df3f040-9890-4823-917c-5135f05d6433",
   "metadata": {},
   "source": [
    "Variable Initialization: This is where you give a variable a value for the first time. Variables must be declared before initializing."
   ]
  },
  {
   "cell_type": "markdown",
   "id": "6b97ff8c-a452-4d35-bac8-f68a3bafdc22",
   "metadata": {},
   "source": [
    "Example:\r\n",
    "age = 25;\r\n",
    "name = \"Cooper\";\r\n",
    "birthday = 2000;"
   ]
  },
  {
   "cell_type": "markdown",
   "id": "fce5ade7-b06f-4712-9f70-ea91d1cd9f2a",
   "metadata": {},
   "source": [
    "The equals sign is known as the assignment operator in most programming langauges. You must use this to create variables."
   ]
  },
  {
   "cell_type": "markdown",
   "id": "abd6475f-4f1f-455e-9e52-80c68d340123",
   "metadata": {},
   "source": [
    "# Naming Variables"
   ]
  },
  {
   "cell_type": "markdown",
   "id": "ff861fa0-0826-46b9-83f7-7e5115f98167",
   "metadata": {},
   "source": [
    "***"
   ]
  },
  {
   "cell_type": "markdown",
   "id": "d55b056c-3af8-404e-a0a3-13c45edaf523",
   "metadata": {},
   "source": [
    "Variable names are extremely important, naming conventions vary between languages, here are some tips:"
   ]
  },
  {
   "cell_type": "markdown",
   "id": "5f03b273-cb8d-424c-acaa-0af2303c588d",
   "metadata": {},
   "source": [
    "Good Examples: <br>"
   ]
  },
  {
   "cell_type": "markdown",
   "id": "a0cccb04-9f89-4936-9cf3-e68750410261",
   "metadata": {},
   "source": [
    "1. Use descriptive names, that match the purpose of the variable. <br>\n",
    "2. Use CamelCase when writing multi-word variables (Javascript best practice)<br>\n",
    "3. Avoid symbols, and \"reserved\" words, such as: let, for, if etc.<br>\n",
    "<font color = \"red\">Never put spaces in variables, a variable can never just be an integer<br>"
   ]
  },
  {
   "cell_type": "markdown",
   "id": "850ff6aa-b72a-418f-9928-42d8bca81d28",
   "metadata": {},
   "source": [
    "<font color = \"blue\"> Good Examples:<br>"
   ]
  },
  {
   "cell_type": "markdown",
   "id": "a9938365-35cf-410a-8bea-b8422caed37b",
   "metadata": {},
   "source": [
    "let firstName = \"Thomas\"<br>"
   ]
  },
  {
   "cell_type": "markdown",
   "id": "efd2e175-a830-4f41-b066-1eb139643cda",
   "metadata": {},
   "source": [
    "let numberOfLives = 9;<br>"
   ]
  },
  {
   "cell_type": "markdown",
   "id": "804f916b-7f72-4bb5-b9e6-5b354af4c18a",
   "metadata": {},
   "source": [
    "CONST temp = 98;<br>"
   ]
  },
  {
   "cell_type": "markdown",
   "id": "70159f03-4b21-4e99-8545-6647321242ee",
   "metadata": {},
   "source": [
    "let messageOfTheDay = \"Hello there, welcome to CSP\";<br>"
   ]
  },
  {
   "cell_type": "markdown",
   "id": "a2a7a111-5ddc-47b8-b0dc-888a27d5e7a2",
   "metadata": {},
   "source": [
    "# Using the console.log( ); method with Variables"
   ]
  },
  {
   "cell_type": "markdown",
   "id": "c3903d58-aab2-4841-bf91-993fb97684a9",
   "metadata": {},
   "source": [
    "***"
   ]
  },
  {
   "cell_type": "markdown",
   "id": "77fefb26-81ad-4b09-b1f6-22ed1b2fc259",
   "metadata": {},
   "source": [
    "We can combine our previous knowlege of the console log method with variables to start to build actual programs."
   ]
  },
  {
   "cell_type": "markdown",
   "id": "3ab488eb-9cd8-46c5-b191-151035444803",
   "metadata": {},
   "source": [
    "Lets start by defining a variable:\n"
   ]
  },
  {
   "cell_type": "code",
   "execution_count": 3,
   "id": "462ce6cc-bae3-400d-8f64-a55304b9961f",
   "metadata": {},
   "outputs": [],
   "source": [
    "let parentsAge = 36;"
   ]
  },
  {
   "cell_type": "markdown",
   "id": "78b3c5f1-de79-4b26-8ca8-87861c9ac161",
   "metadata": {},
   "source": [
    "Now lets print the age variable to the console. NOTE: In Jupyter we get the outut below our \n",
    "cell. If you want to see how this looks in a coding environment you can try this in VSCode."
   ]
  },
  {
   "cell_type": "code",
   "execution_count": 4,
   "id": "3c31e09c-2981-4ab2-afbb-e141ebf8bdbd",
   "metadata": {},
   "outputs": [
    {
     "name": "stdout",
     "output_type": "stream",
     "text": [
      "36\n"
     ]
    }
   ],
   "source": [
    "console.log(parentsAge);"
   ]
  },
  {
   "cell_type": "markdown",
   "id": "77c5ea9b-7954-44d0-a96e-c7a3122444fe",
   "metadata": {},
   "source": [
    "See above, when you run the cell (Shift + Enter) the output is not the variable name, but the information stored inside the variable. Below are more examples:"
   ]
  },
  {
   "cell_type": "code",
   "execution_count": 6,
   "id": "739c718d-eab0-4010-86da-b53ac51de220",
   "metadata": {},
   "outputs": [],
   "source": [
    "let birthdayCakeFlavor = \"chocolate\";"
   ]
  },
  {
   "cell_type": "code",
   "execution_count": 7,
   "id": "cb9fbc6c-8fc4-44f2-abba-002f3d3eceb2",
   "metadata": {},
   "outputs": [
    {
     "name": "stdout",
     "output_type": "stream",
     "text": [
      "chocolate\n"
     ]
    }
   ],
   "source": [
    "console.log(birthdayCakeFlavor);"
   ]
  },
  {
   "cell_type": "markdown",
   "id": "9cda9cec-acc9-4c72-8e77-6af727b87d3e",
   "metadata": {},
   "source": [
    "# Operators"
   ]
  },
  {
   "cell_type": "markdown",
   "id": "078149a3-e8f4-421e-9bca-6a58a7f7d626",
   "metadata": {},
   "source": [
    "***"
   ]
  },
  {
   "cell_type": "markdown",
   "id": "b002ae23-1312-48ee-a7bb-39a2aa1a6eae",
   "metadata": {},
   "source": [
    "Operators are crucial for writing programming langauge. Operators are special symbols or keywords that can perform operations. Below are the most common types:"
   ]
  },
  {
   "cell_type": "markdown",
   "id": "7a0d97a5-b03f-4659-8083-943ecaefab84",
   "metadata": {},
   "source": [
    "<b>Arithmetic Operators: Used to perform basic math."
   ]
  },
  {
   "cell_type": "markdown",
   "id": "862b883e-5cda-4ddd-b965-f70ac421b7c4",
   "metadata": {},
   "source": [
    "<font color = \"blue\"> Examples"
   ]
  },
  {
   "cell_type": "markdown",
   "id": "932046dc-dc6d-495b-aba3-20ad59959842",
   "metadata": {},
   "source": [
    "+(Add)<br>"
   ]
  },
  {
   "cell_type": "markdown",
   "id": "6ceb1252-d7f6-4337-be32-d94fb0be86c8",
   "metadata": {},
   "source": [
    "-(Subtract)<br>\n"
   ]
  },
  {
   "cell_type": "markdown",
   "id": "6198389b-5f78-45e6-bd0f-176329ec1f29",
   "metadata": {},
   "source": [
    "*(Multiply)<br>\n",
    "\n"
   ]
  },
  {
   "cell_type": "markdown",
   "id": "263d5157-e2ac-4b08-a594-9309de9ac948",
   "metadata": {},
   "source": [
    "/(Divide)<br>"
   ]
  },
  {
   "cell_type": "markdown",
   "id": "8d71a990-6d75-45dd-a6b4-14460f672072",
   "metadata": {},
   "source": [
    "%(Modulo)<br>"
   ]
  },
  {
   "cell_type": "markdown",
   "id": "562db7fc-5e71-4e33-9ec6-527ec65e1e86",
   "metadata": {},
   "source": [
    "<b>Comparison Operators: Used to compare values."
   ]
  },
  {
   "cell_type": "markdown",
   "id": "a97949f0-9c8f-47fc-9036-d225356833ef",
   "metadata": {},
   "source": [
    "<font color = \"blue\"> Examples"
   ]
  },
  {
   "cell_type": "markdown",
   "id": "ca4c41bd-5d8c-4d51-8a10-fd2f9d8f9975",
   "metadata": {},
   "source": [
    "=== (equal)<br>"
   ]
  },
  {
   "cell_type": "markdown",
   "id": "23bd099a-70c3-4ab4-9c54-3b16f56ec531",
   "metadata": {},
   "source": [
    "!= (Not Equal)<br>"
   ]
  },
  {
   "cell_type": "markdown",
   "id": "aa477141-3a6a-4a1c-8933-57abf7353ca4",
   "metadata": {},
   "source": [
    "< (Less Than)<br>"
   ]
  },
  {
   "cell_type": "markdown",
   "id": "d236c828-738a-497c-99d2-e2091ee9cdc8",
   "metadata": {},
   "source": [
    " \">\"(Greater Than)<br>"
   ]
  },
  {
   "cell_type": "markdown",
   "id": "eb8a5040-aa30-4dbe-8e08-e97deaa8d59e",
   "metadata": {},
   "source": [
    "<= (less than or equal)<BR>"
   ]
  },
  {
   "cell_type": "markdown",
   "id": "8c430c55-3b4a-4c83-a4cb-412841a1d109",
   "metadata": {},
   "source": [
    "\">=\" (Greater than or equal)<br>"
   ]
  },
  {
   "cell_type": "markdown",
   "id": "0ec1e0c6-f20e-4fc3-8823-059da5f23024",
   "metadata": {},
   "source": [
    "<b>Logical Operators: Used to make decisions."
   ]
  },
  {
   "cell_type": "markdown",
   "id": "81075a08-7043-4ced-9b5f-783413c09fd3",
   "metadata": {},
   "source": [
    "<font color = \"blue\"> Examples"
   ]
  },
  {
   "cell_type": "markdown",
   "id": "380798d5-5881-40a0-9f41-d6d96074630e",
   "metadata": {},
   "source": [
    "&& (and)<br>"
   ]
  },
  {
   "cell_type": "markdown",
   "id": "fb393b5d-3109-443c-becc-e9186982eb5b",
   "metadata": {},
   "source": [
    "|| (or)<br>"
   ]
  },
  {
   "cell_type": "markdown",
   "id": "c55f645f-8f09-4520-ab43-ac266b0ef140",
   "metadata": {},
   "source": [
    "! (Not)<br>"
   ]
  },
  {
   "cell_type": "markdown",
   "id": "9c93e636-3caa-42b7-b3c7-9c8a7d24503a",
   "metadata": {},
   "source": [
    "<b>Assignment Operators: Used in variables to assign value."
   ]
  },
  {
   "cell_type": "markdown",
   "id": "71c115da-54fe-4a87-802a-50f22d5485b2",
   "metadata": {},
   "source": [
    "<font color = \"blue\"> Examples"
   ]
  },
  {
   "cell_type": "markdown",
   "id": "ea59938b-cea7-4070-b186-3be75e097c82",
   "metadata": {},
   "source": [
    "= (Assign)<br>"
   ]
  },
  {
   "cell_type": "markdown",
   "id": "619f20c9-df91-473c-b579-7e2c4a5dbf73",
   "metadata": {},
   "source": [
    "+= (Add and assign)<br>"
   ]
  },
  {
   "cell_type": "markdown",
   "id": "8fa5edd3-1f5b-4571-b5ec-5568603e07ab",
   "metadata": {},
   "source": [
    "-= (Subtract and assign)<br>"
   ]
  },
  {
   "cell_type": "markdown",
   "id": "168bf65c-9d8d-4cda-809c-03e5268492c9",
   "metadata": {},
   "source": [
    "<b>String Operators: Used to concetenate (combine) two strings."
   ]
  },
  {
   "cell_type": "markdown",
   "id": "88089b63-5fb3-4510-a7b0-0dd274312e8a",
   "metadata": {},
   "source": [
    "<font color = \"blue\"> Example"
   ]
  },
  {
   "cell_type": "markdown",
   "id": "aa05aa58-8ecf-4bc4-a68b-c4a61253f338",
   "metadata": {},
   "source": [
    "+(Concatenate)"
   ]
  },
  {
   "cell_type": "markdown",
   "id": "5adbebce-f37a-4557-974b-61c46e641aec",
   "metadata": {},
   "source": [
    "# Using Operators"
   ]
  },
  {
   "cell_type": "markdown",
   "id": "66f40a36-702d-4e50-88d8-3d0c8f04b1d7",
   "metadata": {},
   "source": [
    "***"
   ]
  },
  {
   "cell_type": "markdown",
   "id": "3e41a11c-db71-497c-97e2-0e9088345cb5",
   "metadata": {},
   "source": [
    "Operators are simple to use within variables. They can be used outside of variables as well, but lets start by using them inside variables. We will use the same process as above, we will define a variable and then print to the console. However we will now utilize operpators to make more complex variables."
   ]
  },
  {
   "cell_type": "code",
   "execution_count": 11,
   "id": "f3458a88-8b76-4914-88c7-383ca7c97a44",
   "metadata": {},
   "outputs": [],
   "source": [
    "let areaOfRectangle = 4 * 5;"
   ]
  },
  {
   "cell_type": "code",
   "execution_count": 12,
   "id": "cab744f1-c863-45e0-8cdb-6f95c7996251",
   "metadata": {},
   "outputs": [
    {
     "name": "stdout",
     "output_type": "stream",
     "text": [
      "20\n"
     ]
    }
   ],
   "source": [
    "console.log(areaOfRectangle);"
   ]
  },
  {
   "cell_type": "markdown",
   "id": "ccbb4d07-6388-43e1-a8f3-b2b46766f438",
   "metadata": {},
   "source": [
    "We can use the concatenation (and the '+' operator) to make better print statements in the console. Note the space between the colon and the last quotation mark:"
   ]
  },
  {
   "cell_type": "code",
   "execution_count": 13,
   "id": "e9b7419e-bf28-4ccc-8b46-5e264ed22d76",
   "metadata": {},
   "outputs": [],
   "source": [
    "let areaOfSquare = 7 * 7;"
   ]
  },
  {
   "cell_type": "code",
   "execution_count": 14,
   "id": "e7eba1cf-2523-4b3b-a800-cf978eedd68e",
   "metadata": {},
   "outputs": [
    {
     "name": "stdout",
     "output_type": "stream",
     "text": [
      "The area of a 7 inch square is: 49\n"
     ]
    }
   ],
   "source": [
    "console.log('The area of a 7 inch square is: ' + areaOfSquare);"
   ]
  },
  {
   "cell_type": "markdown",
   "id": "4462fee4-20b8-4507-acc1-9de6875df10a",
   "metadata": {},
   "source": [
    "You can concatenate words too, however lets examine what happens:"
   ]
  },
  {
   "cell_type": "code",
   "execution_count": 15,
   "id": "b0fd9b4a-31d6-41fa-8bd8-7ef146b7d1fa",
   "metadata": {},
   "outputs": [],
   "source": [
    "let firstName = \"John\";"
   ]
  },
  {
   "cell_type": "code",
   "execution_count": 16,
   "id": "bd84020b-47df-4f62-b801-6f27b9f28d7d",
   "metadata": {},
   "outputs": [],
   "source": [
    "let lastName = \"Doe\";"
   ]
  },
  {
   "cell_type": "code",
   "execution_count": 17,
   "id": "3b5c8af0-0331-49d7-93f8-a5cc848232fc",
   "metadata": {},
   "outputs": [
    {
     "name": "stdout",
     "output_type": "stream",
     "text": [
      "His name is JohnDoe\n"
     ]
    }
   ],
   "source": [
    "console.log(\"His name is \" + firstName + lastName);"
   ]
  },
  {
   "cell_type": "markdown",
   "id": "c3f21cb0-7a75-4610-a79f-41386c433b13",
   "metadata": {},
   "source": [
    "We are missing a space between first name and last name. We can fix this by adding a blank space, using an empty set of quotes, make sure you put a space between the quotes:"
   ]
  },
  {
   "cell_type": "code",
   "execution_count": 18,
   "id": "743c90f5-e733-4e9f-b815-f85d309aeaf1",
   "metadata": {},
   "outputs": [
    {
     "name": "stdout",
     "output_type": "stream",
     "text": [
      "His name is John Doe\n"
     ]
    }
   ],
   "source": [
    "console.log(\"His name is \" + firstName + \" \" + lastName);"
   ]
  },
  {
   "cell_type": "markdown",
   "id": "3bf9c85c-21c5-47e1-9579-574e571a8760",
   "metadata": {},
   "source": [
    "We can also use operators on variables. For instance we will use the equality operator to see if the 2 variables below are equal. It will return true or false:"
   ]
  },
  {
   "cell_type": "code",
   "execution_count": 19,
   "id": "ede57519-0c3e-4440-b2e6-38ebf0512c39",
   "metadata": {},
   "outputs": [],
   "source": [
    "let trainTicketValue = 5;\n",
    "let trainNumber = 4;"
   ]
  },
  {
   "cell_type": "code",
   "execution_count": 20,
   "id": "22ca2102-72bf-4a66-a2d8-d479efccc6c6",
   "metadata": {},
   "outputs": [
    {
     "name": "stdout",
     "output_type": "stream",
     "text": [
      "false\n"
     ]
    }
   ],
   "source": [
    "console.log(trainTicketValue == trainNumber);"
   ]
  },
  {
   "cell_type": "markdown",
   "id": "01155c87-5dd5-4436-97dc-a3a8505bd08e",
   "metadata": {},
   "source": [
    "# Changing Variable Assignments"
   ]
  },
  {
   "cell_type": "markdown",
   "id": "f7b47cd4-8d06-4621-be04-92361df3f695",
   "metadata": {},
   "source": [
    "***"
   ]
  },
  {
   "cell_type": "markdown",
   "id": "1c594de7-b1d9-4c10-a0bd-7890285602cd",
   "metadata": {},
   "source": [
    "Variables defined with let and var can be changed. CONST variables cannot be changed. In\n",
    "the example below we set the variable to a value, then change it. Notice the output takes the\n",
    "last value. IT does not mean that the variable was not the initial value, you just are printing\n",
    "the last value because the program is executing in a procedural step by step manner. Notice\n",
    "that when we mutate the variable we dont use the declaration keyword again. NOTE: In\n",
    "Jupyter, mutating (changing) a variable name will print it out. This is NOT the case in other\n",
    "IDE's, you will only see output when logging to the console."
   ]
  },
  {
   "cell_type": "code",
   "execution_count": 21,
   "id": "d652059d-046d-449b-9d9e-a64b80354204",
   "metadata": {},
   "outputs": [
    {
     "data": {
      "text/plain": [
       "10"
      ]
     },
     "execution_count": 21,
     "metadata": {},
     "output_type": "execute_result"
    }
   ],
   "source": [
    "let numOfCows = 10;\n",
    "numOfCows = 5;\n",
    "numOfCows = 10;"
   ]
  },
  {
   "cell_type": "code",
   "execution_count": 22,
   "id": "ae2e6a9a-ffc9-4f32-8492-15f5d3f2d16a",
   "metadata": {},
   "outputs": [
    {
     "name": "stdout",
     "output_type": "stream",
     "text": [
      "10\n"
     ]
    }
   ],
   "source": [
    "console.log(numOfCows);"
   ]
  },
  {
   "cell_type": "code",
   "execution_count": 23,
   "id": "69e30624-7ae2-483e-bf73-a0597bf7ffc1",
   "metadata": {},
   "outputs": [
    {
     "data": {
      "text/plain": [
       "'Im a crow'"
      ]
     },
     "execution_count": 23,
     "metadata": {},
     "output_type": "execute_result"
    }
   ],
   "source": [
    "let murderOfCrows = 5 + 5;\n",
    "murderOfCrows = 1000000 * 7;\n",
    "murderOfCrows = \"Im a crow\";"
   ]
  },
  {
   "cell_type": "code",
   "execution_count": 24,
   "id": "cc54c3ac-2509-4327-9413-fd2358aef39a",
   "metadata": {},
   "outputs": [
    {
     "name": "stdout",
     "output_type": "stream",
     "text": [
      "Im a crow\n"
     ]
    }
   ],
   "source": [
    "console.log(murderOfCrows);"
   ]
  },
  {
   "cell_type": "code",
   "execution_count": null,
   "id": "32d7da4f-6469-4b26-87ce-3f924957b438",
   "metadata": {},
   "outputs": [],
   "source": []
  }
 ],
 "metadata": {
  "kernelspec": {
   "display_name": "JavaScript (Node.js)",
   "language": "javascript",
   "name": "javascript"
  },
  "language_info": {
   "file_extension": ".js",
   "mimetype": "application/javascript",
   "name": "javascript",
   "version": "20.8.1"
  }
 },
 "nbformat": 4,
 "nbformat_minor": 5
}
