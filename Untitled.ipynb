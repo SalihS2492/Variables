{
 "cells": [
  {
   "cell_type": "markdown",
   "id": "b14cc855-faea-4338-bf5b-d36c6020c708",
   "metadata": {},
   "source": [
    "# Conditional Statements In Javascript"
   ]
  },
  {
   "cell_type": "markdown",
   "id": "a30b76b4-809d-4568-910b-6fdbb5cdb0f2",
   "metadata": {},
   "source": [
    "***"
   ]
  },
  {
   "cell_type": "markdown",
   "id": "c097ada9-2b2e-40f4-8bde-066c8302c4b3",
   "metadata": {},
   "source": [
    "__Conditional Statements:__ Conditional statements, also known as control flow statements,\r\n",
    "allow a program to make decisions and execute different blocks of code based on whether a\r\n",
    "certain condition is true or false. These conditions are evaluated to boolean values, which are\r\n",
    "either true or false. . These conditions are usually expressions that compare values using\r\n",
    "comparison operators (e.g.,= ==, !=, <, >, <=, >=). The result of such expressions is a\r\n",
    "boolean value, indicating the truth or falsity of the condition. This, in turn, determines which\r\n",
    "block of code will be executeds."
   ]
  },
  {
   "cell_type": "markdown",
   "id": "8b5ee611-15e1-4601-a2bf-0e9542afc637",
   "metadata": {},
   "source": [
    "# Truthy Vs. Falsy Values"
   ]
  },
  {
   "cell_type": "markdown",
   "id": "ed7148be-f262-4300-a465-b63462aab632",
   "metadata": {},
   "source": [
    "***"
   ]
  },
  {
   "cell_type": "markdown",
   "id": "9a3e69dc-dc67-4716-b91c-59ec3b610ce7",
   "metadata": {},
   "source": [
    "In JavaScript, values are not only categorized as true or false but also as \"truthy\" or \"falsy\".\r\n",
    "This distinction is important when evaluating conditions in conditional statements."
   ]
  },
  {
   "cell_type": "markdown",
   "id": "a70379d6-dcfe-4c99-88cb-f63f6de5c0e1",
   "metadata": {},
   "source": [
    "__Falsy Values:__"
   ]
  },
  {
   "cell_type": "markdown",
   "id": "e00462be-69b0-4f0b-ba47-caa8162a17c4",
   "metadata": {},
   "source": [
    "__false:__ The keyword false"
   ]
  },
  {
   "cell_type": "markdown",
   "id": "443d7f0f-e0a7-4e59-b123-c8469a6bcbf5",
   "metadata": {},
   "source": [
    "__0:__ The number zero"
   ]
  },
  {
   "cell_type": "markdown",
   "id": "bff1bda6-f395-440f-b17e-41326f85513d",
   "metadata": {},
   "source": [
    "\"\" (Empty String): A string with no characters."
   ]
  },
  {
   "cell_type": "markdown",
   "id": "20ef8e7a-83db-4dab-aad1-7bd3bf61b4f3",
   "metadata": {},
   "source": [
    "__null:__ Represents no value or no object."
   ]
  },
  {
   "cell_type": "markdown",
   "id": "577aadd8-927f-418b-ba3c-191da4c6fff1",
   "metadata": {},
   "source": [
    "__undefined:__ Indicates that a variable has not been assigned a value."
   ]
  },
  {
   "cell_type": "markdown",
   "id": "4a592356-6370-475b-8749-be7392340ae9",
   "metadata": {},
   "source": [
    "__NaN:__ Stands for \"Not-a-Number\"."
   ]
  },
  {
   "cell_type": "code",
   "execution_count": null,
   "id": "48c53e29-cc1f-4ee2-b21a-ab6ec271f5c2",
   "metadata": {},
   "outputs": [],
   "source": []
  }
 ],
 "metadata": {
  "kernelspec": {
   "display_name": "JavaScript (Node.js)",
   "language": "javascript",
   "name": "javascript"
  },
  "language_info": {
   "file_extension": ".js",
   "mimetype": "application/javascript",
   "name": "javascript",
   "version": "20.8.1"
  }
 },
 "nbformat": 4,
 "nbformat_minor": 5
}
